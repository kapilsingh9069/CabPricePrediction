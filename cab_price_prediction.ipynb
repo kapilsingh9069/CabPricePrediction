{
  "nbformat": 4,
  "nbformat_minor": 0,
  "metadata": {
    "colab": {
      "name": "cab_price_prediction.ipynb",
      "provenance": [],
      "authorship_tag": "ABX9TyMBMLB+6dZDViPCTktwiop0",
      "include_colab_link": true
    },
    "kernelspec": {
      "name": "python3",
      "display_name": "Python 3"
    }
  },
  "cells": [
    {
      "cell_type": "markdown",
      "metadata": {
        "id": "view-in-github",
        "colab_type": "text"
      },
      "source": [
        "<a href=\"https://colab.research.google.com/github/kapilsingh9069/CabPricePrediction/blob/main/cab_price_prediction.ipynb\" target=\"_parent\"><img src=\"https://colab.research.google.com/assets/colab-badge.svg\" alt=\"Open In Colab\"/></a>"
      ]
    },
    {
      "cell_type": "code",
      "metadata": {
        "id": "ym15JWHfVSVy",
        "outputId": "11c51713-10d7-49e8-a628-24e3edaa68ba",
        "colab": {
          "base_uri": "https://localhost:8080/",
          "height": 71
        }
      },
      "source": [
        "import os\n",
        "import pandas as pd\n",
        "import numpy as np\n",
        "from fancyimpute import KNN"
      ],
      "execution_count": 2,
      "outputs": [
        {
          "output_type": "stream",
          "text": [
            "/usr/local/lib/python3.6/dist-packages/sklearn/externals/six.py:31: FutureWarning: The module is deprecated in version 0.21 and will be removed in version 0.23 since we've dropped support for Python 2.7. Please rely on the official version of six (https://pypi.org/project/six/).\n",
            "  \"(https://pypi.org/project/six/).\", FutureWarning)\n"
          ],
          "name": "stderr"
        }
      ]
    },
    {
      "cell_type": "code",
      "metadata": {
        "id": "cX4I1TJTWBm8",
        "outputId": "9d004103-6057-4deb-da39-cfb816f6f86f",
        "colab": {
          "base_uri": "https://localhost:8080/",
          "height": 309
        }
      },
      "source": [
        "train = pd.read_csv(\"https://raw.githubusercontent.com/Priyankk18k/CabPrediction/master/train_cab.csv\")\n",
        "test = pd.read_csv(\"https://raw.githubusercontent.com/Priyankk18k/CabPrediction/master/test.csv\")\n",
        "train.head()"
      ],
      "execution_count": 3,
      "outputs": [
        {
          "output_type": "execute_result",
          "data": {
            "text/html": [
              "<div>\n",
              "<style scoped>\n",
              "    .dataframe tbody tr th:only-of-type {\n",
              "        vertical-align: middle;\n",
              "    }\n",
              "\n",
              "    .dataframe tbody tr th {\n",
              "        vertical-align: top;\n",
              "    }\n",
              "\n",
              "    .dataframe thead th {\n",
              "        text-align: right;\n",
              "    }\n",
              "</style>\n",
              "<table border=\"1\" class=\"dataframe\">\n",
              "  <thead>\n",
              "    <tr style=\"text-align: right;\">\n",
              "      <th></th>\n",
              "      <th>fare_amount</th>\n",
              "      <th>pickup_datetime</th>\n",
              "      <th>pickup_longitude</th>\n",
              "      <th>pickup_latitude</th>\n",
              "      <th>dropoff_longitude</th>\n",
              "      <th>dropoff_latitude</th>\n",
              "      <th>passenger_count</th>\n",
              "    </tr>\n",
              "  </thead>\n",
              "  <tbody>\n",
              "    <tr>\n",
              "      <th>0</th>\n",
              "      <td>4.5</td>\n",
              "      <td>2009-06-15 17:26:21 UTC</td>\n",
              "      <td>-73.844311</td>\n",
              "      <td>40.721319</td>\n",
              "      <td>-73.841610</td>\n",
              "      <td>40.712278</td>\n",
              "      <td>1.0</td>\n",
              "    </tr>\n",
              "    <tr>\n",
              "      <th>1</th>\n",
              "      <td>16.9</td>\n",
              "      <td>2010-01-05 16:52:16 UTC</td>\n",
              "      <td>-74.016048</td>\n",
              "      <td>40.711303</td>\n",
              "      <td>-73.979268</td>\n",
              "      <td>40.782004</td>\n",
              "      <td>1.0</td>\n",
              "    </tr>\n",
              "    <tr>\n",
              "      <th>2</th>\n",
              "      <td>5.7</td>\n",
              "      <td>2011-08-18 00:35:00 UTC</td>\n",
              "      <td>-73.982738</td>\n",
              "      <td>40.761270</td>\n",
              "      <td>-73.991242</td>\n",
              "      <td>40.750562</td>\n",
              "      <td>2.0</td>\n",
              "    </tr>\n",
              "    <tr>\n",
              "      <th>3</th>\n",
              "      <td>7.7</td>\n",
              "      <td>2012-04-21 04:30:42 UTC</td>\n",
              "      <td>-73.987130</td>\n",
              "      <td>40.733143</td>\n",
              "      <td>-73.991567</td>\n",
              "      <td>40.758092</td>\n",
              "      <td>1.0</td>\n",
              "    </tr>\n",
              "    <tr>\n",
              "      <th>4</th>\n",
              "      <td>5.3</td>\n",
              "      <td>2010-03-09 07:51:00 UTC</td>\n",
              "      <td>-73.968095</td>\n",
              "      <td>40.768008</td>\n",
              "      <td>-73.956655</td>\n",
              "      <td>40.783762</td>\n",
              "      <td>1.0</td>\n",
              "    </tr>\n",
              "  </tbody>\n",
              "</table>\n",
              "</div>"
            ],
            "text/plain": [
              "  fare_amount          pickup_datetime  ...  dropoff_latitude  passenger_count\n",
              "0         4.5  2009-06-15 17:26:21 UTC  ...         40.712278              1.0\n",
              "1        16.9  2010-01-05 16:52:16 UTC  ...         40.782004              1.0\n",
              "2         5.7  2011-08-18 00:35:00 UTC  ...         40.750562              2.0\n",
              "3         7.7  2012-04-21 04:30:42 UTC  ...         40.758092              1.0\n",
              "4         5.3  2010-03-09 07:51:00 UTC  ...         40.783762              1.0\n",
              "\n",
              "[5 rows x 7 columns]"
            ]
          },
          "metadata": {
            "tags": []
          },
          "execution_count": 3
        }
      ]
    },
    {
      "cell_type": "code",
      "metadata": {
        "id": "ksJArYYWWN6w",
        "outputId": "0b95e4f4-0906-48db-fc22-755b099a0fad",
        "colab": {
          "base_uri": "https://localhost:8080/",
          "height": 309
        }
      },
      "source": [
        "test.head()"
      ],
      "execution_count": 4,
      "outputs": [
        {
          "output_type": "execute_result",
          "data": {
            "text/html": [
              "<div>\n",
              "<style scoped>\n",
              "    .dataframe tbody tr th:only-of-type {\n",
              "        vertical-align: middle;\n",
              "    }\n",
              "\n",
              "    .dataframe tbody tr th {\n",
              "        vertical-align: top;\n",
              "    }\n",
              "\n",
              "    .dataframe thead th {\n",
              "        text-align: right;\n",
              "    }\n",
              "</style>\n",
              "<table border=\"1\" class=\"dataframe\">\n",
              "  <thead>\n",
              "    <tr style=\"text-align: right;\">\n",
              "      <th></th>\n",
              "      <th>pickup_datetime</th>\n",
              "      <th>pickup_longitude</th>\n",
              "      <th>pickup_latitude</th>\n",
              "      <th>dropoff_longitude</th>\n",
              "      <th>dropoff_latitude</th>\n",
              "      <th>passenger_count</th>\n",
              "    </tr>\n",
              "  </thead>\n",
              "  <tbody>\n",
              "    <tr>\n",
              "      <th>0</th>\n",
              "      <td>2015-01-27 13:08:24 UTC</td>\n",
              "      <td>-73.973320</td>\n",
              "      <td>40.763805</td>\n",
              "      <td>-73.981430</td>\n",
              "      <td>40.743835</td>\n",
              "      <td>1</td>\n",
              "    </tr>\n",
              "    <tr>\n",
              "      <th>1</th>\n",
              "      <td>2015-01-27 13:08:24 UTC</td>\n",
              "      <td>-73.986862</td>\n",
              "      <td>40.719383</td>\n",
              "      <td>-73.998886</td>\n",
              "      <td>40.739201</td>\n",
              "      <td>1</td>\n",
              "    </tr>\n",
              "    <tr>\n",
              "      <th>2</th>\n",
              "      <td>2011-10-08 11:53:44 UTC</td>\n",
              "      <td>-73.982524</td>\n",
              "      <td>40.751260</td>\n",
              "      <td>-73.979654</td>\n",
              "      <td>40.746139</td>\n",
              "      <td>1</td>\n",
              "    </tr>\n",
              "    <tr>\n",
              "      <th>3</th>\n",
              "      <td>2012-12-01 21:12:12 UTC</td>\n",
              "      <td>-73.981160</td>\n",
              "      <td>40.767807</td>\n",
              "      <td>-73.990448</td>\n",
              "      <td>40.751635</td>\n",
              "      <td>1</td>\n",
              "    </tr>\n",
              "    <tr>\n",
              "      <th>4</th>\n",
              "      <td>2012-12-01 21:12:12 UTC</td>\n",
              "      <td>-73.966046</td>\n",
              "      <td>40.789775</td>\n",
              "      <td>-73.988565</td>\n",
              "      <td>40.744427</td>\n",
              "      <td>1</td>\n",
              "    </tr>\n",
              "  </tbody>\n",
              "</table>\n",
              "</div>"
            ],
            "text/plain": [
              "           pickup_datetime  pickup_longitude  ...  dropoff_latitude  passenger_count\n",
              "0  2015-01-27 13:08:24 UTC        -73.973320  ...         40.743835                1\n",
              "1  2015-01-27 13:08:24 UTC        -73.986862  ...         40.739201                1\n",
              "2  2011-10-08 11:53:44 UTC        -73.982524  ...         40.746139                1\n",
              "3  2012-12-01 21:12:12 UTC        -73.981160  ...         40.751635                1\n",
              "4  2012-12-01 21:12:12 UTC        -73.966046  ...         40.744427                1\n",
              "\n",
              "[5 rows x 6 columns]"
            ]
          },
          "metadata": {
            "tags": []
          },
          "execution_count": 4
        }
      ]
    },
    {
      "cell_type": "code",
      "metadata": {
        "id": "lsqpqQ6EWW3l",
        "outputId": "ca053fac-9f53-4da5-d0e6-4fd8ab83c214",
        "colab": {
          "base_uri": "https://localhost:8080/",
          "height": 427
        }
      },
      "source": [
        "train.describe(include='all')"
      ],
      "execution_count": 5,
      "outputs": [
        {
          "output_type": "execute_result",
          "data": {
            "text/html": [
              "<div>\n",
              "<style scoped>\n",
              "    .dataframe tbody tr th:only-of-type {\n",
              "        vertical-align: middle;\n",
              "    }\n",
              "\n",
              "    .dataframe tbody tr th {\n",
              "        vertical-align: top;\n",
              "    }\n",
              "\n",
              "    .dataframe thead th {\n",
              "        text-align: right;\n",
              "    }\n",
              "</style>\n",
              "<table border=\"1\" class=\"dataframe\">\n",
              "  <thead>\n",
              "    <tr style=\"text-align: right;\">\n",
              "      <th></th>\n",
              "      <th>fare_amount</th>\n",
              "      <th>pickup_datetime</th>\n",
              "      <th>pickup_longitude</th>\n",
              "      <th>pickup_latitude</th>\n",
              "      <th>dropoff_longitude</th>\n",
              "      <th>dropoff_latitude</th>\n",
              "      <th>passenger_count</th>\n",
              "    </tr>\n",
              "  </thead>\n",
              "  <tbody>\n",
              "    <tr>\n",
              "      <th>count</th>\n",
              "      <td>16043</td>\n",
              "      <td>16067</td>\n",
              "      <td>16067.000000</td>\n",
              "      <td>16067.000000</td>\n",
              "      <td>16067.000000</td>\n",
              "      <td>16067.000000</td>\n",
              "      <td>16012.000000</td>\n",
              "    </tr>\n",
              "    <tr>\n",
              "      <th>unique</th>\n",
              "      <td>468</td>\n",
              "      <td>16021</td>\n",
              "      <td>NaN</td>\n",
              "      <td>NaN</td>\n",
              "      <td>NaN</td>\n",
              "      <td>NaN</td>\n",
              "      <td>NaN</td>\n",
              "    </tr>\n",
              "    <tr>\n",
              "      <th>top</th>\n",
              "      <td>6.5</td>\n",
              "      <td>2012-07-08 11:09:00 UTC</td>\n",
              "      <td>NaN</td>\n",
              "      <td>NaN</td>\n",
              "      <td>NaN</td>\n",
              "      <td>NaN</td>\n",
              "      <td>NaN</td>\n",
              "    </tr>\n",
              "    <tr>\n",
              "      <th>freq</th>\n",
              "      <td>759</td>\n",
              "      <td>2</td>\n",
              "      <td>NaN</td>\n",
              "      <td>NaN</td>\n",
              "      <td>NaN</td>\n",
              "      <td>NaN</td>\n",
              "      <td>NaN</td>\n",
              "    </tr>\n",
              "    <tr>\n",
              "      <th>mean</th>\n",
              "      <td>NaN</td>\n",
              "      <td>NaN</td>\n",
              "      <td>-72.462787</td>\n",
              "      <td>39.914725</td>\n",
              "      <td>-72.462328</td>\n",
              "      <td>39.897906</td>\n",
              "      <td>2.625070</td>\n",
              "    </tr>\n",
              "    <tr>\n",
              "      <th>std</th>\n",
              "      <td>NaN</td>\n",
              "      <td>NaN</td>\n",
              "      <td>10.578384</td>\n",
              "      <td>6.826587</td>\n",
              "      <td>10.575062</td>\n",
              "      <td>6.187087</td>\n",
              "      <td>60.844122</td>\n",
              "    </tr>\n",
              "    <tr>\n",
              "      <th>min</th>\n",
              "      <td>NaN</td>\n",
              "      <td>NaN</td>\n",
              "      <td>-74.438233</td>\n",
              "      <td>-74.006893</td>\n",
              "      <td>-74.429332</td>\n",
              "      <td>-74.006377</td>\n",
              "      <td>0.000000</td>\n",
              "    </tr>\n",
              "    <tr>\n",
              "      <th>25%</th>\n",
              "      <td>NaN</td>\n",
              "      <td>NaN</td>\n",
              "      <td>-73.992156</td>\n",
              "      <td>40.734927</td>\n",
              "      <td>-73.991182</td>\n",
              "      <td>40.734651</td>\n",
              "      <td>1.000000</td>\n",
              "    </tr>\n",
              "    <tr>\n",
              "      <th>50%</th>\n",
              "      <td>NaN</td>\n",
              "      <td>NaN</td>\n",
              "      <td>-73.981698</td>\n",
              "      <td>40.752603</td>\n",
              "      <td>-73.980172</td>\n",
              "      <td>40.753567</td>\n",
              "      <td>1.000000</td>\n",
              "    </tr>\n",
              "    <tr>\n",
              "      <th>75%</th>\n",
              "      <td>NaN</td>\n",
              "      <td>NaN</td>\n",
              "      <td>-73.966838</td>\n",
              "      <td>40.767381</td>\n",
              "      <td>-73.963643</td>\n",
              "      <td>40.768013</td>\n",
              "      <td>2.000000</td>\n",
              "    </tr>\n",
              "    <tr>\n",
              "      <th>max</th>\n",
              "      <td>NaN</td>\n",
              "      <td>NaN</td>\n",
              "      <td>40.766125</td>\n",
              "      <td>401.083332</td>\n",
              "      <td>40.802437</td>\n",
              "      <td>41.366138</td>\n",
              "      <td>5345.000000</td>\n",
              "    </tr>\n",
              "  </tbody>\n",
              "</table>\n",
              "</div>"
            ],
            "text/plain": [
              "       fare_amount          pickup_datetime  ...  dropoff_latitude  passenger_count\n",
              "count        16043                    16067  ...      16067.000000     16012.000000\n",
              "unique         468                    16021  ...               NaN              NaN\n",
              "top            6.5  2012-07-08 11:09:00 UTC  ...               NaN              NaN\n",
              "freq           759                        2  ...               NaN              NaN\n",
              "mean           NaN                      NaN  ...         39.897906         2.625070\n",
              "std            NaN                      NaN  ...          6.187087        60.844122\n",
              "min            NaN                      NaN  ...        -74.006377         0.000000\n",
              "25%            NaN                      NaN  ...         40.734651         1.000000\n",
              "50%            NaN                      NaN  ...         40.753567         1.000000\n",
              "75%            NaN                      NaN  ...         40.768013         2.000000\n",
              "max            NaN                      NaN  ...         41.366138      5345.000000\n",
              "\n",
              "[11 rows x 7 columns]"
            ]
          },
          "metadata": {
            "tags": []
          },
          "execution_count": 5
        }
      ]
    },
    {
      "cell_type": "code",
      "metadata": {
        "id": "avzuF8AjWfwI",
        "outputId": "60844593-182f-41b4-d586-bb94c3788baa",
        "colab": {
          "base_uri": "https://localhost:8080/",
          "height": 153
        }
      },
      "source": [
        "print(train.dtypes)"
      ],
      "execution_count": 6,
      "outputs": [
        {
          "output_type": "stream",
          "text": [
            "fare_amount           object\n",
            "pickup_datetime       object\n",
            "pickup_longitude     float64\n",
            "pickup_latitude      float64\n",
            "dropoff_longitude    float64\n",
            "dropoff_latitude     float64\n",
            "passenger_count      float64\n",
            "dtype: object\n"
          ],
          "name": "stdout"
        }
      ]
    },
    {
      "cell_type": "code",
      "metadata": {
        "id": "n2bMMXbHWwRR",
        "outputId": "4a2d63d6-4238-4a64-c1c9-9941181b24fa",
        "colab": {
          "base_uri": "https://localhost:8080/",
          "height": 136
        }
      },
      "source": [
        "print(test.dtypes)"
      ],
      "execution_count": 7,
      "outputs": [
        {
          "output_type": "stream",
          "text": [
            "pickup_datetime       object\n",
            "pickup_longitude     float64\n",
            "pickup_latitude      float64\n",
            "dropoff_longitude    float64\n",
            "dropoff_latitude     float64\n",
            "passenger_count        int64\n",
            "dtype: object\n"
          ],
          "name": "stdout"
        }
      ]
    },
    {
      "cell_type": "code",
      "metadata": {
        "id": "-HBBtIBFW4q8",
        "outputId": "ddec8453-5530-4c2b-8e51-42b8ebe639ec",
        "colab": {
          "base_uri": "https://localhost:8080/",
          "height": 34
        }
      },
      "source": [
        "train.shape"
      ],
      "execution_count": 8,
      "outputs": [
        {
          "output_type": "execute_result",
          "data": {
            "text/plain": [
              "(16067, 7)"
            ]
          },
          "metadata": {
            "tags": []
          },
          "execution_count": 8
        }
      ]
    },
    {
      "cell_type": "code",
      "metadata": {
        "id": "dhQtmpLvW_Qa",
        "outputId": "3430fc13-f7cf-4976-b2dc-031e05f77b0b",
        "colab": {
          "base_uri": "https://localhost:8080/",
          "height": 34
        }
      },
      "source": [
        "test.shape"
      ],
      "execution_count": 9,
      "outputs": [
        {
          "output_type": "execute_result",
          "data": {
            "text/plain": [
              "(9914, 6)"
            ]
          },
          "metadata": {
            "tags": []
          },
          "execution_count": 9
        }
      ]
    },
    {
      "cell_type": "code",
      "metadata": {
        "id": "T8FqcyLRXCwA"
      },
      "source": [
        "train['fare_amount'] = pd.to_numeric(train['fare_amount'], errors='coerce')\n",
        "train['pickup_datetime'] = pd.to_datetime(train['pickup_datetime'], errors='coerce')"
      ],
      "execution_count": 10,
      "outputs": []
    },
    {
      "cell_type": "markdown",
      "metadata": {
        "id": "4PAKXtozYIAk"
      },
      "source": [
        "# ***DATA CLEANING***"
      ]
    },
    {
      "cell_type": "code",
      "metadata": {
        "id": "qQNiqPD4YHHa"
      },
      "source": [
        "# changing the values to its absolute for easier calculation further\n",
        "train = train[abs(train['pickup_latitude']) < 90]\n",
        "train = train[abs(train['dropoff_latitude']) < 90]\n",
        "train = train[abs(train['pickup_longitude']) < 180]\n",
        "train = train[abs(train['dropoff_longitude']) < 180]"
      ],
      "execution_count": 11,
      "outputs": []
    },
    {
      "cell_type": "code",
      "metadata": {
        "id": "_R5Y3uU5iexC"
      },
      "source": [
        "# delete the passenger_count which is greater than 7 bcoz a cab can carry at a time only 7 passenger \n",
        "index_pc = train.loc[train.passenger_count > 7, :].index\n",
        "train.drop(index_pc, axis=0, inplace=True)"
      ],
      "execution_count": 12,
      "outputs": []
    },
    {
      "cell_type": "code",
      "metadata": {
        "id": "GHeokGE0kf7M"
      },
      "source": [
        "# delete the fair_amount which is small then 0 or greater than 100\n",
        "index_fc = train.loc[train.fare_amount >100, :].index\n",
        "train.drop(index_fc, axis=0, inplace=True)"
      ],
      "execution_count": 13,
      "outputs": []
    },
    {
      "cell_type": "code",
      "metadata": {
        "id": "lMctdYuElmNj"
      },
      "source": [
        "index_fc1 = train.loc[train.fare_amount < 0, :].index\n",
        "train.drop(index_fc1, axis=0, inplace=True)"
      ],
      "execution_count": 14,
      "outputs": []
    },
    {
      "cell_type": "code",
      "metadata": {
        "id": "dtGmD2sOmF_6"
      },
      "source": [
        "train = train.dropna(subset=['fare_amount'])\n",
        "train = train.dropna(subset=['pickup_datetime'])"
      ],
      "execution_count": 15,
      "outputs": []
    },
    {
      "cell_type": "code",
      "metadata": {
        "id": "vUdmMgl0mngn",
        "outputId": "12fe2ac2-0f3e-4c0e-a8cd-bc0dd0b9c7e8",
        "colab": {
          "base_uri": "https://localhost:8080/",
          "height": 34
        }
      },
      "source": [
        "#change the value of 0 to nan so that we can impute easily during missing values\n",
        "train=train.replace(0, np.nan)\n",
        "print(train.shape)"
      ],
      "execution_count": 16,
      "outputs": [
        {
          "output_type": "stream",
          "text": [
            "(16009, 7)\n"
          ],
          "name": "stdout"
        }
      ]
    },
    {
      "cell_type": "code",
      "metadata": {
        "id": "0bgk1NeQnbkn",
        "outputId": "fa7a06a8-a4ab-4d73-8b00-7cad6bf43384",
        "colab": {
          "base_uri": "https://localhost:8080/",
          "height": 309
        }
      },
      "source": [
        "train.head()"
      ],
      "execution_count": 17,
      "outputs": [
        {
          "output_type": "execute_result",
          "data": {
            "text/html": [
              "<div>\n",
              "<style scoped>\n",
              "    .dataframe tbody tr th:only-of-type {\n",
              "        vertical-align: middle;\n",
              "    }\n",
              "\n",
              "    .dataframe tbody tr th {\n",
              "        vertical-align: top;\n",
              "    }\n",
              "\n",
              "    .dataframe thead th {\n",
              "        text-align: right;\n",
              "    }\n",
              "</style>\n",
              "<table border=\"1\" class=\"dataframe\">\n",
              "  <thead>\n",
              "    <tr style=\"text-align: right;\">\n",
              "      <th></th>\n",
              "      <th>fare_amount</th>\n",
              "      <th>pickup_datetime</th>\n",
              "      <th>pickup_longitude</th>\n",
              "      <th>pickup_latitude</th>\n",
              "      <th>dropoff_longitude</th>\n",
              "      <th>dropoff_latitude</th>\n",
              "      <th>passenger_count</th>\n",
              "    </tr>\n",
              "  </thead>\n",
              "  <tbody>\n",
              "    <tr>\n",
              "      <th>0</th>\n",
              "      <td>4.5</td>\n",
              "      <td>2009-06-15 17:26:21+00:00</td>\n",
              "      <td>-73.844311</td>\n",
              "      <td>40.721319</td>\n",
              "      <td>-73.841610</td>\n",
              "      <td>40.712278</td>\n",
              "      <td>1.0</td>\n",
              "    </tr>\n",
              "    <tr>\n",
              "      <th>1</th>\n",
              "      <td>16.9</td>\n",
              "      <td>2010-01-05 16:52:16+00:00</td>\n",
              "      <td>-74.016048</td>\n",
              "      <td>40.711303</td>\n",
              "      <td>-73.979268</td>\n",
              "      <td>40.782004</td>\n",
              "      <td>1.0</td>\n",
              "    </tr>\n",
              "    <tr>\n",
              "      <th>2</th>\n",
              "      <td>5.7</td>\n",
              "      <td>2011-08-18 00:35:00+00:00</td>\n",
              "      <td>-73.982738</td>\n",
              "      <td>40.761270</td>\n",
              "      <td>-73.991242</td>\n",
              "      <td>40.750562</td>\n",
              "      <td>2.0</td>\n",
              "    </tr>\n",
              "    <tr>\n",
              "      <th>3</th>\n",
              "      <td>7.7</td>\n",
              "      <td>2012-04-21 04:30:42+00:00</td>\n",
              "      <td>-73.987130</td>\n",
              "      <td>40.733143</td>\n",
              "      <td>-73.991567</td>\n",
              "      <td>40.758092</td>\n",
              "      <td>1.0</td>\n",
              "    </tr>\n",
              "    <tr>\n",
              "      <th>4</th>\n",
              "      <td>5.3</td>\n",
              "      <td>2010-03-09 07:51:00+00:00</td>\n",
              "      <td>-73.968095</td>\n",
              "      <td>40.768008</td>\n",
              "      <td>-73.956655</td>\n",
              "      <td>40.783762</td>\n",
              "      <td>1.0</td>\n",
              "    </tr>\n",
              "  </tbody>\n",
              "</table>\n",
              "</div>"
            ],
            "text/plain": [
              "   fare_amount           pickup_datetime  ...  dropoff_latitude  passenger_count\n",
              "0          4.5 2009-06-15 17:26:21+00:00  ...         40.712278              1.0\n",
              "1         16.9 2010-01-05 16:52:16+00:00  ...         40.782004              1.0\n",
              "2          5.7 2011-08-18 00:35:00+00:00  ...         40.750562              2.0\n",
              "3          7.7 2012-04-21 04:30:42+00:00  ...         40.758092              1.0\n",
              "4          5.3 2010-03-09 07:51:00+00:00  ...         40.783762              1.0\n",
              "\n",
              "[5 rows x 7 columns]"
            ]
          },
          "metadata": {
            "tags": []
          },
          "execution_count": 17
        }
      ]
    },
    {
      "cell_type": "markdown",
      "metadata": {
        "id": "DfxSMEVcnqs4"
      },
      "source": [
        "# ***FEATURE ENGINEERING***"
      ]
    },
    {
      "cell_type": "code",
      "metadata": {
        "id": "JtgdQEg0nw7C"
      },
      "source": [
        "# Datetime break into year, month, weekdays and hours \n",
        "#changing the datatype ti int\n",
        "\n",
        "train['year'] = train['pickup_datetime'].dt.year\n",
        "train['month'] = train['pickup_datetime'].dt.month\n",
        "train['weekday'] = train['pickup_datetime'].dt.weekday\n",
        "train['hour'] = train['pickup_datetime'].dt.hour\n"
      ],
      "execution_count": 18,
      "outputs": []
    },
    {
      "cell_type": "code",
      "metadata": {
        "id": "iNCOSTJCnoe3",
        "outputId": "383860a3-dc73-4580-a934-2126c47b6967",
        "colab": {
          "base_uri": "https://localhost:8080/",
          "height": 309
        }
      },
      "source": [
        "train.head()"
      ],
      "execution_count": 19,
      "outputs": [
        {
          "output_type": "execute_result",
          "data": {
            "text/html": [
              "<div>\n",
              "<style scoped>\n",
              "    .dataframe tbody tr th:only-of-type {\n",
              "        vertical-align: middle;\n",
              "    }\n",
              "\n",
              "    .dataframe tbody tr th {\n",
              "        vertical-align: top;\n",
              "    }\n",
              "\n",
              "    .dataframe thead th {\n",
              "        text-align: right;\n",
              "    }\n",
              "</style>\n",
              "<table border=\"1\" class=\"dataframe\">\n",
              "  <thead>\n",
              "    <tr style=\"text-align: right;\">\n",
              "      <th></th>\n",
              "      <th>fare_amount</th>\n",
              "      <th>pickup_datetime</th>\n",
              "      <th>pickup_longitude</th>\n",
              "      <th>pickup_latitude</th>\n",
              "      <th>dropoff_longitude</th>\n",
              "      <th>dropoff_latitude</th>\n",
              "      <th>passenger_count</th>\n",
              "      <th>year</th>\n",
              "      <th>month</th>\n",
              "      <th>weekday</th>\n",
              "      <th>hour</th>\n",
              "    </tr>\n",
              "  </thead>\n",
              "  <tbody>\n",
              "    <tr>\n",
              "      <th>0</th>\n",
              "      <td>4.5</td>\n",
              "      <td>2009-06-15 17:26:21+00:00</td>\n",
              "      <td>-73.844311</td>\n",
              "      <td>40.721319</td>\n",
              "      <td>-73.841610</td>\n",
              "      <td>40.712278</td>\n",
              "      <td>1.0</td>\n",
              "      <td>2009</td>\n",
              "      <td>6</td>\n",
              "      <td>0</td>\n",
              "      <td>17</td>\n",
              "    </tr>\n",
              "    <tr>\n",
              "      <th>1</th>\n",
              "      <td>16.9</td>\n",
              "      <td>2010-01-05 16:52:16+00:00</td>\n",
              "      <td>-74.016048</td>\n",
              "      <td>40.711303</td>\n",
              "      <td>-73.979268</td>\n",
              "      <td>40.782004</td>\n",
              "      <td>1.0</td>\n",
              "      <td>2010</td>\n",
              "      <td>1</td>\n",
              "      <td>1</td>\n",
              "      <td>16</td>\n",
              "    </tr>\n",
              "    <tr>\n",
              "      <th>2</th>\n",
              "      <td>5.7</td>\n",
              "      <td>2011-08-18 00:35:00+00:00</td>\n",
              "      <td>-73.982738</td>\n",
              "      <td>40.761270</td>\n",
              "      <td>-73.991242</td>\n",
              "      <td>40.750562</td>\n",
              "      <td>2.0</td>\n",
              "      <td>2011</td>\n",
              "      <td>8</td>\n",
              "      <td>3</td>\n",
              "      <td>0</td>\n",
              "    </tr>\n",
              "    <tr>\n",
              "      <th>3</th>\n",
              "      <td>7.7</td>\n",
              "      <td>2012-04-21 04:30:42+00:00</td>\n",
              "      <td>-73.987130</td>\n",
              "      <td>40.733143</td>\n",
              "      <td>-73.991567</td>\n",
              "      <td>40.758092</td>\n",
              "      <td>1.0</td>\n",
              "      <td>2012</td>\n",
              "      <td>4</td>\n",
              "      <td>5</td>\n",
              "      <td>4</td>\n",
              "    </tr>\n",
              "    <tr>\n",
              "      <th>4</th>\n",
              "      <td>5.3</td>\n",
              "      <td>2010-03-09 07:51:00+00:00</td>\n",
              "      <td>-73.968095</td>\n",
              "      <td>40.768008</td>\n",
              "      <td>-73.956655</td>\n",
              "      <td>40.783762</td>\n",
              "      <td>1.0</td>\n",
              "      <td>2010</td>\n",
              "      <td>3</td>\n",
              "      <td>1</td>\n",
              "      <td>7</td>\n",
              "    </tr>\n",
              "  </tbody>\n",
              "</table>\n",
              "</div>"
            ],
            "text/plain": [
              "   fare_amount           pickup_datetime  ...  weekday  hour\n",
              "0          4.5 2009-06-15 17:26:21+00:00  ...        0    17\n",
              "1         16.9 2010-01-05 16:52:16+00:00  ...        1    16\n",
              "2          5.7 2011-08-18 00:35:00+00:00  ...        3     0\n",
              "3          7.7 2012-04-21 04:30:42+00:00  ...        5     4\n",
              "4          5.3 2010-03-09 07:51:00+00:00  ...        1     7\n",
              "\n",
              "[5 rows x 11 columns]"
            ]
          },
          "metadata": {
            "tags": []
          },
          "execution_count": 19
        }
      ]
    },
    {
      "cell_type": "code",
      "metadata": {
        "id": "8tNSIflSnEsZ"
      },
      "source": [
        "train = train.drop('pickup_datetime', axis=1)"
      ],
      "execution_count": 20,
      "outputs": []
    },
    {
      "cell_type": "code",
      "metadata": {
        "id": "a8xUmgtenOf1",
        "outputId": "d44193a9-3bdf-426c-9684-d3ad7c39a2f3",
        "colab": {
          "base_uri": "https://localhost:8080/",
          "height": 224
        }
      },
      "source": [
        "train.head()"
      ],
      "execution_count": 21,
      "outputs": [
        {
          "output_type": "execute_result",
          "data": {
            "text/html": [
              "<div>\n",
              "<style scoped>\n",
              "    .dataframe tbody tr th:only-of-type {\n",
              "        vertical-align: middle;\n",
              "    }\n",
              "\n",
              "    .dataframe tbody tr th {\n",
              "        vertical-align: top;\n",
              "    }\n",
              "\n",
              "    .dataframe thead th {\n",
              "        text-align: right;\n",
              "    }\n",
              "</style>\n",
              "<table border=\"1\" class=\"dataframe\">\n",
              "  <thead>\n",
              "    <tr style=\"text-align: right;\">\n",
              "      <th></th>\n",
              "      <th>fare_amount</th>\n",
              "      <th>pickup_longitude</th>\n",
              "      <th>pickup_latitude</th>\n",
              "      <th>dropoff_longitude</th>\n",
              "      <th>dropoff_latitude</th>\n",
              "      <th>passenger_count</th>\n",
              "      <th>year</th>\n",
              "      <th>month</th>\n",
              "      <th>weekday</th>\n",
              "      <th>hour</th>\n",
              "    </tr>\n",
              "  </thead>\n",
              "  <tbody>\n",
              "    <tr>\n",
              "      <th>0</th>\n",
              "      <td>4.5</td>\n",
              "      <td>-73.844311</td>\n",
              "      <td>40.721319</td>\n",
              "      <td>-73.841610</td>\n",
              "      <td>40.712278</td>\n",
              "      <td>1.0</td>\n",
              "      <td>2009</td>\n",
              "      <td>6</td>\n",
              "      <td>0</td>\n",
              "      <td>17</td>\n",
              "    </tr>\n",
              "    <tr>\n",
              "      <th>1</th>\n",
              "      <td>16.9</td>\n",
              "      <td>-74.016048</td>\n",
              "      <td>40.711303</td>\n",
              "      <td>-73.979268</td>\n",
              "      <td>40.782004</td>\n",
              "      <td>1.0</td>\n",
              "      <td>2010</td>\n",
              "      <td>1</td>\n",
              "      <td>1</td>\n",
              "      <td>16</td>\n",
              "    </tr>\n",
              "    <tr>\n",
              "      <th>2</th>\n",
              "      <td>5.7</td>\n",
              "      <td>-73.982738</td>\n",
              "      <td>40.761270</td>\n",
              "      <td>-73.991242</td>\n",
              "      <td>40.750562</td>\n",
              "      <td>2.0</td>\n",
              "      <td>2011</td>\n",
              "      <td>8</td>\n",
              "      <td>3</td>\n",
              "      <td>0</td>\n",
              "    </tr>\n",
              "    <tr>\n",
              "      <th>3</th>\n",
              "      <td>7.7</td>\n",
              "      <td>-73.987130</td>\n",
              "      <td>40.733143</td>\n",
              "      <td>-73.991567</td>\n",
              "      <td>40.758092</td>\n",
              "      <td>1.0</td>\n",
              "      <td>2012</td>\n",
              "      <td>4</td>\n",
              "      <td>5</td>\n",
              "      <td>4</td>\n",
              "    </tr>\n",
              "    <tr>\n",
              "      <th>4</th>\n",
              "      <td>5.3</td>\n",
              "      <td>-73.968095</td>\n",
              "      <td>40.768008</td>\n",
              "      <td>-73.956655</td>\n",
              "      <td>40.783762</td>\n",
              "      <td>1.0</td>\n",
              "      <td>2010</td>\n",
              "      <td>3</td>\n",
              "      <td>1</td>\n",
              "      <td>7</td>\n",
              "    </tr>\n",
              "  </tbody>\n",
              "</table>\n",
              "</div>"
            ],
            "text/plain": [
              "   fare_amount  pickup_longitude  pickup_latitude  ...  month  weekday  hour\n",
              "0          4.5        -73.844311        40.721319  ...      6        0    17\n",
              "1         16.9        -74.016048        40.711303  ...      1        1    16\n",
              "2          5.7        -73.982738        40.761270  ...      8        3     0\n",
              "3          7.7        -73.987130        40.733143  ...      4        5     4\n",
              "4          5.3        -73.968095        40.768008  ...      3        1     7\n",
              "\n",
              "[5 rows x 10 columns]"
            ]
          },
          "metadata": {
            "tags": []
          },
          "execution_count": 21
        }
      ]
    },
    {
      "cell_type": "markdown",
      "metadata": {
        "id": "v2W9pIZFnlHR"
      },
      "source": [
        "# ***MISSING VALUE ANALYSIS***"
      ]
    },
    {
      "cell_type": "code",
      "metadata": {
        "id": "kJk-UUN6naTj",
        "outputId": "8f5c7fc0-790b-4490-adf4-602839c0acac",
        "colab": {
          "base_uri": "https://localhost:8080/",
          "height": 204
        }
      },
      "source": [
        "print(train.isnull().sum())"
      ],
      "execution_count": 22,
      "outputs": [
        {
          "output_type": "stream",
          "text": [
            "fare_amount            1\n",
            "pickup_longitude     310\n",
            "pickup_latitude      310\n",
            "dropoff_longitude    309\n",
            "dropoff_latitude     307\n",
            "passenger_count      112\n",
            "year                   0\n",
            "month                  0\n",
            "weekday                0\n",
            "hour                   0\n",
            "dtype: int64\n"
          ],
          "name": "stdout"
        }
      ]
    },
    {
      "cell_type": "code",
      "metadata": {
        "id": "RCuw332Xn9r5",
        "outputId": "32cb2128-6d44-4fe8-959b-f40d39b50edc",
        "colab": {
          "base_uri": "https://localhost:8080/",
          "height": 204
        }
      },
      "source": [
        "print(train.isnull().count())"
      ],
      "execution_count": 23,
      "outputs": [
        {
          "output_type": "stream",
          "text": [
            "fare_amount          16009\n",
            "pickup_longitude     16009\n",
            "pickup_latitude      16009\n",
            "dropoff_longitude    16009\n",
            "dropoff_latitude     16009\n",
            "passenger_count      16009\n",
            "year                 16009\n",
            "month                16009\n",
            "weekday              16009\n",
            "hour                 16009\n",
            "dtype: int64\n"
          ],
          "name": "stdout"
        }
      ]
    },
    {
      "cell_type": "code",
      "metadata": {
        "id": "Hf9klfNGonET",
        "outputId": "83a4a5b9-e8f8-4977-e003-8e546845a2a7",
        "colab": {
          "base_uri": "https://localhost:8080/",
          "height": 204
        }
      },
      "source": [
        "#find out the percent of null columns:\n",
        "total = train.isnull().sum().sort_values(ascending=False)\n",
        "percent = ((train.isnull().sum()/train.isnull().count()).sort_values(ascending=False))*100\n",
        "\n",
        "missing_data = pd.concat([total, percent], axis=1, keys=['Total','Percent'])\n",
        "missing_data = missing_data.sort_values('Total',ascending= True)\n",
        "print(missing_data)"
      ],
      "execution_count": 24,
      "outputs": [
        {
          "output_type": "stream",
          "text": [
            "                   Total   Percent\n",
            "hour                   0  0.000000\n",
            "weekday                0  0.000000\n",
            "month                  0  0.000000\n",
            "year                   0  0.000000\n",
            "fare_amount            1  0.006246\n",
            "passenger_count      112  0.699606\n",
            "dropoff_latitude     307  1.917671\n",
            "dropoff_longitude    309  1.930164\n",
            "pickup_latitude      310  1.936411\n",
            "pickup_longitude     310  1.936411\n"
          ],
          "name": "stdout"
        }
      ]
    },
    {
      "cell_type": "code",
      "metadata": {
        "id": "O1_064NHrwJw",
        "outputId": "3b195a5f-08ac-40b0-e9b5-01adbc38a734",
        "colab": {
          "base_uri": "https://localhost:8080/",
          "height": 1000
        }
      },
      "source": [
        "# best imputing is done by KNN that's why imputing with KNN not with mean and median\n",
        "train = pd.DataFrame(KNN(k=5).fit_transform(train),columns=train.columns, index=train.index)"
      ],
      "execution_count": 25,
      "outputs": [
        {
          "output_type": "stream",
          "text": [
            "Imputing row 1/16009 with 0 missing, elapsed time: 45.101\n",
            "Imputing row 101/16009 with 0 missing, elapsed time: 45.103\n",
            "Imputing row 201/16009 with 0 missing, elapsed time: 45.105\n",
            "Imputing row 301/16009 with 0 missing, elapsed time: 45.106\n",
            "Imputing row 401/16009 with 0 missing, elapsed time: 45.107\n",
            "Imputing row 501/16009 with 0 missing, elapsed time: 45.108\n",
            "Imputing row 601/16009 with 0 missing, elapsed time: 45.110\n",
            "Imputing row 701/16009 with 0 missing, elapsed time: 45.111\n",
            "Imputing row 801/16009 with 0 missing, elapsed time: 45.112\n",
            "Imputing row 901/16009 with 0 missing, elapsed time: 45.114\n",
            "Imputing row 1001/16009 with 0 missing, elapsed time: 45.115\n",
            "Imputing row 1101/16009 with 0 missing, elapsed time: 45.116\n",
            "Imputing row 1201/16009 with 0 missing, elapsed time: 45.117\n",
            "Imputing row 1301/16009 with 0 missing, elapsed time: 45.118\n",
            "Imputing row 1401/16009 with 0 missing, elapsed time: 45.119\n",
            "Imputing row 1501/16009 with 0 missing, elapsed time: 45.120\n",
            "Imputing row 1601/16009 with 0 missing, elapsed time: 45.121\n",
            "Imputing row 1701/16009 with 0 missing, elapsed time: 45.122\n",
            "Imputing row 1801/16009 with 0 missing, elapsed time: 45.124\n",
            "Imputing row 1901/16009 with 0 missing, elapsed time: 45.125\n",
            "Imputing row 2001/16009 with 0 missing, elapsed time: 45.126\n",
            "Imputing row 2101/16009 with 0 missing, elapsed time: 45.126\n",
            "Imputing row 2201/16009 with 0 missing, elapsed time: 45.128\n",
            "Imputing row 2301/16009 with 0 missing, elapsed time: 45.129\n",
            "Imputing row 2401/16009 with 0 missing, elapsed time: 45.129\n",
            "Imputing row 2501/16009 with 0 missing, elapsed time: 45.132\n",
            "Imputing row 2601/16009 with 0 missing, elapsed time: 45.133\n",
            "Imputing row 2701/16009 with 0 missing, elapsed time: 45.135\n",
            "Imputing row 2801/16009 with 0 missing, elapsed time: 45.136\n",
            "Imputing row 2901/16009 with 0 missing, elapsed time: 45.138\n",
            "Imputing row 3001/16009 with 0 missing, elapsed time: 45.140\n",
            "Imputing row 3101/16009 with 0 missing, elapsed time: 45.141\n",
            "Imputing row 3201/16009 with 0 missing, elapsed time: 45.142\n",
            "Imputing row 3301/16009 with 0 missing, elapsed time: 45.143\n",
            "Imputing row 3401/16009 with 0 missing, elapsed time: 45.145\n",
            "Imputing row 3501/16009 with 0 missing, elapsed time: 45.146\n",
            "Imputing row 3601/16009 with 0 missing, elapsed time: 45.147\n",
            "Imputing row 3701/16009 with 0 missing, elapsed time: 45.148\n",
            "Imputing row 3801/16009 with 0 missing, elapsed time: 45.150\n",
            "Imputing row 3901/16009 with 0 missing, elapsed time: 45.151\n",
            "Imputing row 4001/16009 with 0 missing, elapsed time: 45.152\n",
            "Imputing row 4101/16009 with 0 missing, elapsed time: 45.153\n",
            "Imputing row 4201/16009 with 0 missing, elapsed time: 45.154\n",
            "Imputing row 4301/16009 with 1 missing, elapsed time: 45.154\n",
            "Imputing row 4401/16009 with 0 missing, elapsed time: 45.155\n",
            "Imputing row 4501/16009 with 0 missing, elapsed time: 45.157\n",
            "Imputing row 4601/16009 with 0 missing, elapsed time: 45.158\n",
            "Imputing row 4701/16009 with 0 missing, elapsed time: 45.159\n",
            "Imputing row 4801/16009 with 0 missing, elapsed time: 45.160\n",
            "Imputing row 4901/16009 with 0 missing, elapsed time: 45.162\n",
            "Imputing row 5001/16009 with 0 missing, elapsed time: 45.162\n",
            "Imputing row 5101/16009 with 0 missing, elapsed time: 45.163\n",
            "Imputing row 5201/16009 with 0 missing, elapsed time: 45.165\n",
            "Imputing row 5301/16009 with 0 missing, elapsed time: 45.166\n",
            "Imputing row 5401/16009 with 0 missing, elapsed time: 45.166\n",
            "Imputing row 5501/16009 with 0 missing, elapsed time: 45.167\n",
            "Imputing row 5601/16009 with 0 missing, elapsed time: 45.169\n",
            "Imputing row 5701/16009 with 0 missing, elapsed time: 45.170\n",
            "Imputing row 5801/16009 with 0 missing, elapsed time: 45.172\n",
            "Imputing row 5901/16009 with 0 missing, elapsed time: 45.173\n",
            "Imputing row 6001/16009 with 0 missing, elapsed time: 45.175\n",
            "Imputing row 6101/16009 with 0 missing, elapsed time: 45.176\n",
            "Imputing row 6201/16009 with 0 missing, elapsed time: 45.177\n",
            "Imputing row 6301/16009 with 0 missing, elapsed time: 45.179\n",
            "Imputing row 6401/16009 with 0 missing, elapsed time: 45.179\n",
            "Imputing row 6501/16009 with 0 missing, elapsed time: 45.179\n",
            "Imputing row 6601/16009 with 4 missing, elapsed time: 45.180\n",
            "Imputing row 6701/16009 with 0 missing, elapsed time: 45.181\n",
            "Imputing row 6801/16009 with 0 missing, elapsed time: 45.182\n",
            "Imputing row 6901/16009 with 0 missing, elapsed time: 45.184\n",
            "Imputing row 7001/16009 with 0 missing, elapsed time: 45.185\n",
            "Imputing row 7101/16009 with 0 missing, elapsed time: 45.186\n",
            "Imputing row 7201/16009 with 0 missing, elapsed time: 45.186\n",
            "Imputing row 7301/16009 with 0 missing, elapsed time: 45.188\n",
            "Imputing row 7401/16009 with 0 missing, elapsed time: 45.189\n",
            "Imputing row 7501/16009 with 0 missing, elapsed time: 45.191\n",
            "Imputing row 7601/16009 with 0 missing, elapsed time: 45.191\n",
            "Imputing row 7701/16009 with 0 missing, elapsed time: 45.193\n",
            "Imputing row 7801/16009 with 0 missing, elapsed time: 45.194\n",
            "Imputing row 7901/16009 with 0 missing, elapsed time: 45.195\n",
            "Imputing row 8001/16009 with 0 missing, elapsed time: 45.196\n",
            "Imputing row 8101/16009 with 0 missing, elapsed time: 45.198\n",
            "Imputing row 8201/16009 with 0 missing, elapsed time: 45.199\n",
            "Imputing row 8301/16009 with 0 missing, elapsed time: 45.200\n",
            "Imputing row 8401/16009 with 0 missing, elapsed time: 45.201\n",
            "Imputing row 8501/16009 with 0 missing, elapsed time: 45.202\n",
            "Imputing row 8601/16009 with 0 missing, elapsed time: 45.205\n",
            "Imputing row 8701/16009 with 0 missing, elapsed time: 45.206\n",
            "Imputing row 8801/16009 with 0 missing, elapsed time: 45.207\n",
            "Imputing row 8901/16009 with 0 missing, elapsed time: 45.208\n",
            "Imputing row 9001/16009 with 0 missing, elapsed time: 45.209\n",
            "Imputing row 9101/16009 with 0 missing, elapsed time: 45.210\n",
            "Imputing row 9201/16009 with 0 missing, elapsed time: 45.210\n",
            "Imputing row 9301/16009 with 0 missing, elapsed time: 45.212\n",
            "Imputing row 9401/16009 with 0 missing, elapsed time: 45.212\n",
            "Imputing row 9501/16009 with 0 missing, elapsed time: 45.212\n",
            "Imputing row 9601/16009 with 0 missing, elapsed time: 45.214\n",
            "Imputing row 9701/16009 with 0 missing, elapsed time: 45.215\n",
            "Imputing row 9801/16009 with 0 missing, elapsed time: 45.216\n",
            "Imputing row 9901/16009 with 0 missing, elapsed time: 45.218\n",
            "Imputing row 10001/16009 with 0 missing, elapsed time: 45.218\n",
            "Imputing row 10101/16009 with 0 missing, elapsed time: 45.219\n",
            "Imputing row 10201/16009 with 0 missing, elapsed time: 45.220\n",
            "Imputing row 10301/16009 with 0 missing, elapsed time: 45.222\n",
            "Imputing row 10401/16009 with 0 missing, elapsed time: 45.223\n",
            "Imputing row 10501/16009 with 0 missing, elapsed time: 45.225\n",
            "Imputing row 10601/16009 with 0 missing, elapsed time: 45.226\n",
            "Imputing row 10701/16009 with 0 missing, elapsed time: 45.227\n",
            "Imputing row 10801/16009 with 0 missing, elapsed time: 45.227\n",
            "Imputing row 10901/16009 with 0 missing, elapsed time: 45.228\n",
            "Imputing row 11001/16009 with 0 missing, elapsed time: 45.229\n",
            "Imputing row 11101/16009 with 0 missing, elapsed time: 45.230\n",
            "Imputing row 11201/16009 with 0 missing, elapsed time: 45.231\n",
            "Imputing row 11301/16009 with 0 missing, elapsed time: 45.232\n",
            "Imputing row 11401/16009 with 0 missing, elapsed time: 45.233\n",
            "Imputing row 11501/16009 with 0 missing, elapsed time: 45.234\n",
            "Imputing row 11601/16009 with 4 missing, elapsed time: 45.236\n",
            "Imputing row 11701/16009 with 0 missing, elapsed time: 45.237\n",
            "Imputing row 11801/16009 with 0 missing, elapsed time: 45.238\n",
            "Imputing row 11901/16009 with 0 missing, elapsed time: 45.239\n",
            "Imputing row 12001/16009 with 0 missing, elapsed time: 45.240\n",
            "Imputing row 12101/16009 with 0 missing, elapsed time: 45.240\n",
            "Imputing row 12201/16009 with 0 missing, elapsed time: 45.241\n",
            "Imputing row 12301/16009 with 0 missing, elapsed time: 45.242\n",
            "Imputing row 12401/16009 with 0 missing, elapsed time: 45.243\n",
            "Imputing row 12501/16009 with 0 missing, elapsed time: 45.244\n",
            "Imputing row 12601/16009 with 0 missing, elapsed time: 45.245\n",
            "Imputing row 12701/16009 with 4 missing, elapsed time: 45.246\n",
            "Imputing row 12801/16009 with 0 missing, elapsed time: 45.247\n",
            "Imputing row 12901/16009 with 0 missing, elapsed time: 45.249\n",
            "Imputing row 13001/16009 with 0 missing, elapsed time: 45.251\n",
            "Imputing row 13101/16009 with 0 missing, elapsed time: 45.253\n",
            "Imputing row 13201/16009 with 0 missing, elapsed time: 45.255\n",
            "Imputing row 13301/16009 with 0 missing, elapsed time: 45.256\n",
            "Imputing row 13401/16009 with 0 missing, elapsed time: 45.258\n",
            "Imputing row 13501/16009 with 0 missing, elapsed time: 45.259\n",
            "Imputing row 13601/16009 with 0 missing, elapsed time: 45.260\n",
            "Imputing row 13701/16009 with 0 missing, elapsed time: 45.261\n",
            "Imputing row 13801/16009 with 4 missing, elapsed time: 45.262\n",
            "Imputing row 13901/16009 with 0 missing, elapsed time: 45.264\n",
            "Imputing row 14001/16009 with 0 missing, elapsed time: 45.265\n",
            "Imputing row 14101/16009 with 0 missing, elapsed time: 45.267\n",
            "Imputing row 14201/16009 with 0 missing, elapsed time: 45.268\n",
            "Imputing row 14301/16009 with 0 missing, elapsed time: 45.270\n",
            "Imputing row 14401/16009 with 0 missing, elapsed time: 45.270\n",
            "Imputing row 14501/16009 with 0 missing, elapsed time: 45.271\n",
            "Imputing row 14601/16009 with 0 missing, elapsed time: 45.272\n",
            "Imputing row 14701/16009 with 0 missing, elapsed time: 45.273\n",
            "Imputing row 14801/16009 with 0 missing, elapsed time: 45.274\n",
            "Imputing row 14901/16009 with 0 missing, elapsed time: 45.275\n",
            "Imputing row 15001/16009 with 0 missing, elapsed time: 45.276\n",
            "Imputing row 15101/16009 with 0 missing, elapsed time: 45.276\n",
            "Imputing row 15201/16009 with 0 missing, elapsed time: 45.278\n",
            "Imputing row 15301/16009 with 0 missing, elapsed time: 45.278\n",
            "Imputing row 15401/16009 with 0 missing, elapsed time: 45.280\n",
            "Imputing row 15501/16009 with 0 missing, elapsed time: 45.281\n",
            "Imputing row 15601/16009 with 0 missing, elapsed time: 45.282\n",
            "Imputing row 15701/16009 with 0 missing, elapsed time: 45.283\n",
            "Imputing row 15801/16009 with 0 missing, elapsed time: 45.284\n",
            "Imputing row 15901/16009 with 0 missing, elapsed time: 45.286\n",
            "Imputing row 16001/16009 with 0 missing, elapsed time: 45.287\n"
          ],
          "name": "stdout"
        }
      ]
    },
    {
      "cell_type": "code",
      "metadata": {
        "id": "JnzqBMYctIkA",
        "outputId": "887dda1a-52c4-4f19-d5c4-db631198a674",
        "colab": {
          "base_uri": "https://localhost:8080/",
          "height": 204
        }
      },
      "source": [
        "# change datadypes into int \n",
        "train.dtypes"
      ],
      "execution_count": 26,
      "outputs": [
        {
          "output_type": "execute_result",
          "data": {
            "text/plain": [
              "fare_amount          float64\n",
              "pickup_longitude     float64\n",
              "pickup_latitude      float64\n",
              "dropoff_longitude    float64\n",
              "dropoff_latitude     float64\n",
              "passenger_count      float64\n",
              "year                 float64\n",
              "month                float64\n",
              "weekday              float64\n",
              "hour                 float64\n",
              "dtype: object"
            ]
          },
          "metadata": {
            "tags": []
          },
          "execution_count": 26
        }
      ]
    },
    {
      "cell_type": "code",
      "metadata": {
        "id": "X54frJjmuaMQ",
        "outputId": "0f988c2a-fa0d-49be-cff5-6e0e918a4815",
        "colab": {
          "base_uri": "https://localhost:8080/",
          "height": 204
        }
      },
      "source": [
        "train['passenger_count']=train['passenger_count'].astype(int)\n",
        "train['year']=train['year'].astype(int)\n",
        "train['month']=train['month'].astype(int)\n",
        "train['weekday']=train['weekday'].astype(int)\n",
        "train['hour']=train['hour'].astype(int)\n",
        "train.dtypes\n"
      ],
      "execution_count": 27,
      "outputs": [
        {
          "output_type": "execute_result",
          "data": {
            "text/plain": [
              "fare_amount          float64\n",
              "pickup_longitude     float64\n",
              "pickup_latitude      float64\n",
              "dropoff_longitude    float64\n",
              "dropoff_latitude     float64\n",
              "passenger_count        int64\n",
              "year                   int64\n",
              "month                  int64\n",
              "weekday                int64\n",
              "hour                   int64\n",
              "dtype: object"
            ]
          },
          "metadata": {
            "tags": []
          },
          "execution_count": 27
        }
      ]
    },
    {
      "cell_type": "code",
      "metadata": {
        "id": "V1be0hEMvKU0"
      },
      "source": [
        "# find absolute longitude and latitude\n",
        "train['abs_longi']=abs(train['pickup_longitude']-train['dropoff_longitude'])\n",
        "\n",
        "train['abs_lat']=abs(train['pickup_latitude']-train['dropoff_latitude'])"
      ],
      "execution_count": 28,
      "outputs": []
    },
    {
      "cell_type": "code",
      "metadata": {
        "id": "ClZqiQ9ua2SN",
        "outputId": "1c9ebdf3-ce98-40ad-f39f-57ccf6e5c98a",
        "colab": {
          "base_uri": "https://localhost:8080/",
          "height": 379
        }
      },
      "source": [
        "#Calculatig distance from log and lati with circle formula\n",
        "def great_circle_distance(lon1,lat1,lon2,lat2):\n",
        "    R = 6371000 # Approximate mean radius of earth (in mt)\n",
        "    # Convert decimal degrees to radians\n",
        "    lon1,lat1,lon2,lat2 = map(np.radians, [lon1, lat1, lon2, lat2])\n",
        "    \n",
        "    # Distance of lons and lats in radians\n",
        "    dis_lon = lon2 - lon1\n",
        "    dis_lat = lat2 - lat1\n",
        "    \n",
        "    # Haversine implementation\n",
        "    a = np.sin(dis_lat/2)**2 + np.cos(lat1) * np.cos(lat2) * np.sin(dis_lon/2)**2\n",
        "    c = 2*np.arctan2(np.sqrt(a), np.sqrt(1-a))\n",
        "    dis_m = R*c # Distance in meters\n",
        "    dis_km = dis_m/1000 # Distance in km\n",
        "    return dis_km\n",
        "train['distance'] = great_circle_distance(train.pickup_longitude, train.pickup_latitude, train.dropoff_longitude, train.dropoff_latitude)\n",
        "train.head(10)"
      ],
      "execution_count": 33,
      "outputs": [
        {
          "output_type": "execute_result",
          "data": {
            "text/html": [
              "<div>\n",
              "<style scoped>\n",
              "    .dataframe tbody tr th:only-of-type {\n",
              "        vertical-align: middle;\n",
              "    }\n",
              "\n",
              "    .dataframe tbody tr th {\n",
              "        vertical-align: top;\n",
              "    }\n",
              "\n",
              "    .dataframe thead th {\n",
              "        text-align: right;\n",
              "    }\n",
              "</style>\n",
              "<table border=\"1\" class=\"dataframe\">\n",
              "  <thead>\n",
              "    <tr style=\"text-align: right;\">\n",
              "      <th></th>\n",
              "      <th>fare_amount</th>\n",
              "      <th>pickup_longitude</th>\n",
              "      <th>pickup_latitude</th>\n",
              "      <th>dropoff_longitude</th>\n",
              "      <th>dropoff_latitude</th>\n",
              "      <th>passenger_count</th>\n",
              "      <th>year</th>\n",
              "      <th>month</th>\n",
              "      <th>weekday</th>\n",
              "      <th>hour</th>\n",
              "      <th>abs_longi</th>\n",
              "      <th>abs_lat</th>\n",
              "      <th>distance</th>\n",
              "    </tr>\n",
              "  </thead>\n",
              "  <tbody>\n",
              "    <tr>\n",
              "      <th>0</th>\n",
              "      <td>4.5</td>\n",
              "      <td>-73.844311</td>\n",
              "      <td>40.721319</td>\n",
              "      <td>-73.841610</td>\n",
              "      <td>40.712278</td>\n",
              "      <td>1</td>\n",
              "      <td>2009</td>\n",
              "      <td>6</td>\n",
              "      <td>0</td>\n",
              "      <td>17</td>\n",
              "      <td>0.002701</td>\n",
              "      <td>0.009041</td>\n",
              "      <td>1.030764</td>\n",
              "    </tr>\n",
              "    <tr>\n",
              "      <th>1</th>\n",
              "      <td>16.9</td>\n",
              "      <td>-74.016048</td>\n",
              "      <td>40.711303</td>\n",
              "      <td>-73.979268</td>\n",
              "      <td>40.782004</td>\n",
              "      <td>1</td>\n",
              "      <td>2010</td>\n",
              "      <td>1</td>\n",
              "      <td>1</td>\n",
              "      <td>16</td>\n",
              "      <td>0.036780</td>\n",
              "      <td>0.070701</td>\n",
              "      <td>8.450134</td>\n",
              "    </tr>\n",
              "    <tr>\n",
              "      <th>2</th>\n",
              "      <td>5.7</td>\n",
              "      <td>-73.982738</td>\n",
              "      <td>40.761270</td>\n",
              "      <td>-73.991242</td>\n",
              "      <td>40.750562</td>\n",
              "      <td>2</td>\n",
              "      <td>2011</td>\n",
              "      <td>8</td>\n",
              "      <td>3</td>\n",
              "      <td>0</td>\n",
              "      <td>0.008504</td>\n",
              "      <td>0.010708</td>\n",
              "      <td>1.389525</td>\n",
              "    </tr>\n",
              "    <tr>\n",
              "      <th>3</th>\n",
              "      <td>7.7</td>\n",
              "      <td>-73.987130</td>\n",
              "      <td>40.733143</td>\n",
              "      <td>-73.991567</td>\n",
              "      <td>40.758092</td>\n",
              "      <td>1</td>\n",
              "      <td>2012</td>\n",
              "      <td>4</td>\n",
              "      <td>5</td>\n",
              "      <td>4</td>\n",
              "      <td>0.004437</td>\n",
              "      <td>0.024949</td>\n",
              "      <td>2.799270</td>\n",
              "    </tr>\n",
              "    <tr>\n",
              "      <th>4</th>\n",
              "      <td>5.3</td>\n",
              "      <td>-73.968095</td>\n",
              "      <td>40.768008</td>\n",
              "      <td>-73.956655</td>\n",
              "      <td>40.783762</td>\n",
              "      <td>1</td>\n",
              "      <td>2010</td>\n",
              "      <td>3</td>\n",
              "      <td>1</td>\n",
              "      <td>7</td>\n",
              "      <td>0.011440</td>\n",
              "      <td>0.015754</td>\n",
              "      <td>1.999157</td>\n",
              "    </tr>\n",
              "    <tr>\n",
              "      <th>5</th>\n",
              "      <td>12.1</td>\n",
              "      <td>-74.000964</td>\n",
              "      <td>40.731630</td>\n",
              "      <td>-73.972892</td>\n",
              "      <td>40.758233</td>\n",
              "      <td>1</td>\n",
              "      <td>2011</td>\n",
              "      <td>1</td>\n",
              "      <td>3</td>\n",
              "      <td>9</td>\n",
              "      <td>0.028072</td>\n",
              "      <td>0.026603</td>\n",
              "      <td>3.787239</td>\n",
              "    </tr>\n",
              "    <tr>\n",
              "      <th>6</th>\n",
              "      <td>7.5</td>\n",
              "      <td>-73.980002</td>\n",
              "      <td>40.751662</td>\n",
              "      <td>-73.973802</td>\n",
              "      <td>40.764842</td>\n",
              "      <td>1</td>\n",
              "      <td>2012</td>\n",
              "      <td>11</td>\n",
              "      <td>1</td>\n",
              "      <td>20</td>\n",
              "      <td>0.006200</td>\n",
              "      <td>0.013180</td>\n",
              "      <td>1.555807</td>\n",
              "    </tr>\n",
              "    <tr>\n",
              "      <th>7</th>\n",
              "      <td>16.5</td>\n",
              "      <td>-73.951300</td>\n",
              "      <td>40.774138</td>\n",
              "      <td>-73.990095</td>\n",
              "      <td>40.751048</td>\n",
              "      <td>1</td>\n",
              "      <td>2012</td>\n",
              "      <td>1</td>\n",
              "      <td>2</td>\n",
              "      <td>17</td>\n",
              "      <td>0.038795</td>\n",
              "      <td>0.023090</td>\n",
              "      <td>4.155444</td>\n",
              "    </tr>\n",
              "    <tr>\n",
              "      <th>9</th>\n",
              "      <td>8.9</td>\n",
              "      <td>-73.980658</td>\n",
              "      <td>40.733873</td>\n",
              "      <td>-73.991540</td>\n",
              "      <td>40.758138</td>\n",
              "      <td>2</td>\n",
              "      <td>2009</td>\n",
              "      <td>9</td>\n",
              "      <td>2</td>\n",
              "      <td>1</td>\n",
              "      <td>0.010882</td>\n",
              "      <td>0.024265</td>\n",
              "      <td>2.849627</td>\n",
              "    </tr>\n",
              "    <tr>\n",
              "      <th>10</th>\n",
              "      <td>5.3</td>\n",
              "      <td>-73.996335</td>\n",
              "      <td>40.737142</td>\n",
              "      <td>-73.980721</td>\n",
              "      <td>40.733559</td>\n",
              "      <td>1</td>\n",
              "      <td>2012</td>\n",
              "      <td>4</td>\n",
              "      <td>6</td>\n",
              "      <td>7</td>\n",
              "      <td>0.015614</td>\n",
              "      <td>0.003583</td>\n",
              "      <td>1.374577</td>\n",
              "    </tr>\n",
              "  </tbody>\n",
              "</table>\n",
              "</div>"
            ],
            "text/plain": [
              "    fare_amount  pickup_longitude  ...   abs_lat  distance\n",
              "0           4.5        -73.844311  ...  0.009041  1.030764\n",
              "1          16.9        -74.016048  ...  0.070701  8.450134\n",
              "2           5.7        -73.982738  ...  0.010708  1.389525\n",
              "3           7.7        -73.987130  ...  0.024949  2.799270\n",
              "4           5.3        -73.968095  ...  0.015754  1.999157\n",
              "5          12.1        -74.000964  ...  0.026603  3.787239\n",
              "6           7.5        -73.980002  ...  0.013180  1.555807\n",
              "7          16.5        -73.951300  ...  0.023090  4.155444\n",
              "9           8.9        -73.980658  ...  0.024265  2.849627\n",
              "10          5.3        -73.996335  ...  0.003583  1.374577\n",
              "\n",
              "[10 rows x 13 columns]"
            ]
          },
          "metadata": {
            "tags": []
          },
          "execution_count": 33
        }
      ]
    },
    {
      "cell_type": "markdown",
      "metadata": {
        "id": "i681aKjue9tG"
      },
      "source": [
        "# ***UNIVARIATE ANALYSIS***"
      ]
    },
    {
      "cell_type": "code",
      "metadata": {
        "id": "g44LQy7Ga7Pa"
      },
      "source": [
        "import matplotlib.pyplot as plt\n",
        "import seaborn as sns\n",
        "%matplotlib inline\n",
        "\n",
        "fig_size = plt.rcParams['figure.figsize']\n",
        "fig_size[0] = 15\n",
        "fig_size[1] = 10"
      ],
      "execution_count": 35,
      "outputs": []
    },
    {
      "cell_type": "code",
      "metadata": {
        "id": "LnRR7L-vjE8h",
        "outputId": "14e492d2-4f35-4bf3-cca1-b56fc83790cc",
        "colab": {
          "base_uri": "https://localhost:8080/",
          "height": 241
        }
      },
      "source": [
        "plt.subplot(3,4,1)\n",
        "plt.plot(train['fare_amount'])\n",
        "plt.title('fare_amount')"
      ],
      "execution_count": 39,
      "outputs": [
        {
          "output_type": "execute_result",
          "data": {
            "text/plain": [
              "Text(0.5, 1.0, 'fare_amount')"
            ]
          },
          "metadata": {
            "tags": []
          },
          "execution_count": 39
        },
        {
          "output_type": "display_data",
          "data": {
            "image/png": "[encoded data removed]",
            "text/plain": [
              "<Figure size 1080x720 with 1 Axes>"
            ]
          },
          "metadata": {
            "tags": [],
            "needs_background": "light"
          }
        }
      ]
    }
  ]
}